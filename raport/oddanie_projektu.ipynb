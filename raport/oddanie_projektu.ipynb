{
 "cells": [
  {
   "cell_type": "markdown",
   "metadata": {},
   "source": [
    "# TECHNIKI PROGRAMOWANIA - projekt 3\n",
    "### Ivan Tymoshchenko 206620\n",
    "### Maciej Lewandowski 203353\n",
    "\n",
    "Wykorzystane biblioteki:\n",
    "- matplotplusplus (c++)\n",
    "- soundfile (python)"
   ]
  },
  {
   "cell_type": "markdown",
   "metadata": {},
   "source": [
    "# Wizualizacja wykresów 1D\n",
    "Przykład obrazujący zaimplementowaną funkcjonalnośc rysowania wykresów 1 wymiarowych"
   ]
  },
  {
   "cell_type": "code",
   "execution_count": null,
   "metadata": {},
   "outputs": [],
   "source": [
    "import signal_lib as sgn\n",
    "\n",
    "frequency = 1.7\n",
    "length = 4\n",
    "frequency_ofsampling = 1000\n",
    "\n",
    "[x_vec, y_vec] = sgn.generate_sine(frequency, frequency_ofsampling, length)\n",
    "\n",
    "sgn.plot(x_vec, y_vec)\n",
    "sgn.save(\"sine_plot.png\")"
   ]
  },
  {
   "cell_type": "markdown",
   "metadata": {},
   "source": [
    "![Sine plot](sine_plot.png)"
   ]
  },
  {
   "cell_type": "markdown",
   "metadata": {},
   "source": [
    "# DFT\n",
    "W celu sprawdzenia poprawności implementacji DFT wykorzystamy kilka przykładowych przebiegów:\n",
    "- sin(f*t) i sin(10*f*t)\n",
    "- ..."
   ]
  },
  {
   "cell_type": "markdown",
   "metadata": {},
   "source": [
    "## sin(ft)"
   ]
  },
  {
   "cell_type": "code",
   "execution_count": null,
   "metadata": {},
   "outputs": [],
   "source": [
    "frequency = 1.7\n",
    "length = 4\n",
    "frequency_ofsampling = 1000\n",
    "\n",
    "[x_vec, y_vec] = sgn.generate_sine(frequency, frequency_ofsampling, length)\n",
    "\n",
    "[x_vec_dft, y_vec_dft] = sgn.dft(y_vec, frequency_ofsampling)\n",
    "\n",
    "sgn.plot(x_vec, y_vec)\n",
    "sgn.save(\"sin_ft.png\")\n",
    "\n",
    "sgn.plot(x_vec_dft, y_vec_dft)\n",
    "sgn.save(\"sin_ft_fft.png\")"
   ]
  },
  {
   "cell_type": "markdown",
   "metadata": {},
   "source": [
    "![sin ft](sin_ft.png)\n",
    "![sin_ft_fft](sin_ft_fft.png)"
   ]
  },
  {
   "cell_type": "markdown",
   "metadata": {},
   "source": [
    "## sin(10 * ft)"
   ]
  },
  {
   "cell_type": "code",
   "execution_count": null,
   "metadata": {},
   "outputs": [],
   "source": [
    "frequency = 1.7\n",
    "length = 4\n",
    "frequency_ofsampling = 1000\n",
    "\n",
    "[x_vec, y_vec] = sgn.generate_sine(10 * frequency, frequency_ofsampling, length)\n",
    "\n",
    "[x_vec_dft, y_vec_dft] = sgn.dft(y_vec, frequency_ofsampling)\n",
    "\n",
    "sgn.plot(x_vec, y_vec)\n",
    "sgn.save(\"sin_10_ft.png\")\n",
    "\n",
    "sgn.plot(x_vec_dft, y_vec_dft)\n",
    "sgn.save(\"sin_10_ft_fft.png\")"
   ]
  },
  {
   "cell_type": "markdown",
   "metadata": {},
   "source": [
    "![sin ft](sin_10_ft.png)\n",
    "![sin_ft_fft](sin_10_ft_fft.png)"
   ]
  },
  {
   "cell_type": "code",
   "execution_count": null,
   "metadata": {},
   "outputs": [],
   "source": []
  }
 ],
 "metadata": {
  "kernelspec": {
   "display_name": "phd",
   "language": "python",
   "name": "python3"
  },
  "language_info": {
   "codemirror_mode": {
    "name": "ipython",
    "version": 3
   },
   "file_extension": ".py",
   "mimetype": "text/x-python",
   "name": "python",
   "nbconvert_exporter": "python",
   "pygments_lexer": "ipython3",
   "version": "3.11.7"
  }
 },
 "nbformat": 4,
 "nbformat_minor": 2
}
